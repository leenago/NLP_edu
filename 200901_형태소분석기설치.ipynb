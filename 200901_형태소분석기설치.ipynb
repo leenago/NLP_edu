{
  "nbformat": 4,
  "nbformat_minor": 0,
  "metadata": {
    "kernelspec": {
      "display_name": "Python 3",
      "language": "python",
      "name": "python3"
    },
    "language_info": {
      "codemirror_mode": {
        "name": "ipython",
        "version": 3
      },
      "file_extension": ".py",
      "mimetype": "text/x-python",
      "name": "python",
      "nbconvert_exporter": "python",
      "pygments_lexer": "ipython3",
      "version": "3.6.10"
    },
    "colab": {
      "name": "200901_형태소분석기설치.ipynb",
      "provenance": [],
      "collapsed_sections": [],
      "include_colab_link": true
    }
  },
  "cells": [
    {
      "cell_type": "markdown",
      "metadata": {
        "id": "view-in-github",
        "colab_type": "text"
      },
      "source": [
        "<a href=\"https://colab.research.google.com/github/leenago/NLP_edu/blob/master/200901_%ED%98%95%ED%83%9C%EC%86%8C%EB%B6%84%EC%84%9D%EA%B8%B0%EC%84%A4%EC%B9%98.ipynb\" target=\"_parent\"><img src=\"https://colab.research.google.com/assets/colab-badge.svg\" alt=\"Open In Colab\"/></a>"
      ]
    },
    {
      "cell_type": "markdown",
      "metadata": {
        "id": "Arx_EAa_oePH",
        "colab_type": "text"
      },
      "source": [
        "# MeCab 설치\n",
        "\n"
      ]
    },
    {
      "cell_type": "markdown",
      "metadata": {
        "id": "GnNhXPddoqVj",
        "colab_type": "text"
      },
      "source": [
        "## 1. C드라이브에 mecab 폴더를 만든다."
      ]
    },
    {
      "cell_type": "markdown",
      "metadata": {
        "id": "5Z-1zm7JosyR",
        "colab_type": "text"
      },
      "source": [
        "## 2. mecab-ko-msvc 설치하기\n",
        "- 링크: https://github.com/Pusnow/mecab-ko-msvc/releases/tag/release-0.9.2-msvc-3\n",
        "- 컴퓨터 사양에 맞는 것으로 선택\n",
        "- 압축을 풀어준 후, mecab 폴더에 넣어준다."
      ]
    },
    {
      "cell_type": "markdown",
      "metadata": {
        "id": "bsv5XlCepY8o",
        "colab_type": "text"
      },
      "source": [
        "## 3. mecab-ko-msvc 설치\n",
        "\n",
        "- 링크: https://github.com/Pusnow/mecab-ko-dic-msvc/releases/tag/mecab-ko-dic-2.1.1-20180720-msvc\n",
        "\n",
        "- 압축을 풀어준 후, mecab 폴더에 넣어준다."
      ]
    },
    {
      "cell_type": "markdown",
      "metadata": {
        "id": "YjcBa0aTpci-",
        "colab_type": "text"
      },
      "source": [
        "## 4. python wheel 설치\n",
        "- 링크: https://github.com/Pusnow/mecab-python-msvc/releases/tag/mecab_python-0.996_ko_0.9.2_msvc-2\n",
        "\n",
        "- 주피터 노트북에서 버전을 확인 후, 버전에 맞는 파일을 다운받는다. (맞는 환경이 없다면, 'py36'같이 가상환경을 설정해준다.)\n",
        "\n",
        "- 그 다음, Jupyter Notebook에서 원하는 폴더에다 이 파일을 upload 해준다.\n",
        "\n",
        "- 그리고 Jupyter Notebook 실행창에 '!pip install 파일명'을 해준다."
      ]
    },
    {
      "cell_type": "code",
      "metadata": {
        "id": "T42wLbfsoJB5",
        "colab_type": "code",
        "colab": {},
        "outputId": "f95f947d-8f2b-48c6-bf32-0c86f27f4d2d"
      },
      "source": [
        "!pip install mecab_python-0.996_ko_0.9.2_msvc-cp36-cp36m-win_amd64.whl"
      ],
      "execution_count": null,
      "outputs": [
        {
          "output_type": "stream",
          "text": [
            "Requirement already satisfied: mecab-python==0.996-ko-0.9.2-msvc from file:///C:/Users/ghk96/Desktop/study/mecab_python-0.996_ko_0.9.2_msvc-cp36-cp36m-win_amd64.whl in c:\\users\\ghk96\\anaconda3\\envs\\py36\\lib\\site-packages (0.996-ko-0.9.2-msvc)\n"
          ],
          "name": "stdout"
        }
      ]
    },
    {
      "cell_type": "code",
      "metadata": {
        "id": "urFTSBbFoJCG",
        "colab_type": "code",
        "colab": {},
        "outputId": "3780a968-0a2f-4356-8235-c12662d0b1f2"
      },
      "source": [
        "import MeCab\n",
        "m = MeCab.Tagger()\n",
        "OUTPUT = m.parse('Mecab 설치를 확인합니다.')\n",
        "print(OUTPUT)"
      ],
      "execution_count": null,
      "outputs": [
        {
          "output_type": "stream",
          "text": [
            "Mecab\tSL,*,*,*,*,*,*,*\n",
            "설치\tNNG,행위,F,설치,*,*,*,*\n",
            "를\tJKO,*,T,를,*,*,*,*\n",
            "확인\tNNG,행위,T,확인,*,*,*,*\n",
            "합니다\tXSV+EF,*,F,합니다,Inflect,XSV,EF,하/XSV/*+ᄇ니다/EF/*\n",
            ".\tSF,*,*,*,*,*,*,*\n",
            "EOS\n",
            "\n"
          ],
          "name": "stdout"
        }
      ]
    },
    {
      "cell_type": "markdown",
      "metadata": {
        "id": "nCeSwcU-qhAu",
        "colab_type": "text"
      },
      "source": [
        "# KoNLPy 설치하기\n",
        "- 링크: https://www.oracle.com/java/technologies/javase-downloads.html\n",
        "\n",
        "- 공통적으로 사용할 수 있는 패키지\n",
        "  - nouns: 명사 추출\n",
        "  - morphs: 형태소 추출\n",
        "  - pos: 품사 부착"
      ]
    },
    {
      "cell_type": "code",
      "metadata": {
        "id": "_mTvouZroJCO",
        "colab_type": "code",
        "colab": {},
        "outputId": "4d53f488-5517-45d4-cc23-7643e1a41d5e"
      },
      "source": [
        "!pip install JPype1-1.0.2-cp36-cp36m-win_amd64.whl"
      ],
      "execution_count": null,
      "outputs": [
        {
          "output_type": "stream",
          "text": [
            "Requirement already satisfied: JPype1==1.0.2 from file:///C:/Users/ghk96/Desktop/study/JPype1-1.0.2-cp36-cp36m-win_amd64.whl in c:\\users\\ghk96\\anaconda3\\envs\\py36\\lib\\site-packages (1.0.2)\n",
            "Requirement already satisfied: typing-extensions; python_version < \"3.8\" in c:\\users\\ghk96\\anaconda3\\envs\\py36\\lib\\site-packages (from JPype1==1.0.2) (3.7.4.3)\n"
          ],
          "name": "stdout"
        }
      ]
    },
    {
      "cell_type": "markdown",
      "metadata": {
        "id": "yDlZoeKnqyB6",
        "colab_type": "text"
      },
      "source": [
        "- 이걸 설치하고 나서 'python wheel'을 설치했던 것처럼 파일을 upload 해주고, '!pip install 파일명'을 해주어야 한다.\n",
        "\n",
        "- 그리고 'Program Files -> Java -> jdk -> bin -> java.exe'가 있는 경로를 복사해서, 환경변수(S)에 추가를 해준다."
      ]
    },
    {
      "cell_type": "code",
      "metadata": {
        "id": "Vcd0g1o8oJCW",
        "colab_type": "code",
        "colab": {},
        "outputId": "5b9d06b9-c661-4b85-b9f3-ee504eb430a2"
      },
      "source": [
        "!pip install konlpy"
      ],
      "execution_count": null,
      "outputs": [
        {
          "output_type": "stream",
          "text": [
            "Requirement already satisfied: konlpy in c:\\users\\ghk96\\anaconda3\\envs\\py36\\lib\\site-packages (0.5.2)\n",
            "Requirement already satisfied: lxml>=4.1.0 in c:\\users\\ghk96\\anaconda3\\envs\\py36\\lib\\site-packages (from konlpy) (4.5.2)\n",
            "Requirement already satisfied: tweepy>=3.7.0 in c:\\users\\ghk96\\anaconda3\\envs\\py36\\lib\\site-packages (from konlpy) (3.9.0)\n",
            "Requirement already satisfied: JPype1>=0.7.0 in c:\\users\\ghk96\\anaconda3\\envs\\py36\\lib\\site-packages (from konlpy) (1.0.2)\n",
            "Requirement already satisfied: numpy>=1.6 in c:\\users\\ghk96\\anaconda3\\envs\\py36\\lib\\site-packages (from konlpy) (1.19.1)\n",
            "Requirement already satisfied: colorama in c:\\users\\ghk96\\anaconda3\\envs\\py36\\lib\\site-packages (from konlpy) (0.4.3)\n",
            "Requirement already satisfied: beautifulsoup4==4.6.0 in c:\\users\\ghk96\\anaconda3\\envs\\py36\\lib\\site-packages (from konlpy) (4.6.0)\n",
            "Requirement already satisfied: six>=1.10.0 in c:\\users\\ghk96\\anaconda3\\envs\\py36\\lib\\site-packages (from tweepy>=3.7.0->konlpy) (1.15.0)\n",
            "Requirement already satisfied: requests[socks]>=2.11.1 in c:\\users\\ghk96\\anaconda3\\envs\\py36\\lib\\site-packages (from tweepy>=3.7.0->konlpy) (2.24.0)\n",
            "Requirement already satisfied: requests-oauthlib>=0.7.0 in c:\\users\\ghk96\\anaconda3\\envs\\py36\\lib\\site-packages (from tweepy>=3.7.0->konlpy) (1.3.0)\n",
            "Requirement already satisfied: typing-extensions; python_version < \"3.8\" in c:\\users\\ghk96\\anaconda3\\envs\\py36\\lib\\site-packages (from JPype1>=0.7.0->konlpy) (3.7.4.3)\n",
            "Requirement already satisfied: chardet<4,>=3.0.2 in c:\\users\\ghk96\\anaconda3\\envs\\py36\\lib\\site-packages (from requests[socks]>=2.11.1->tweepy>=3.7.0->konlpy) (3.0.4)\n",
            "Requirement already satisfied: idna<3,>=2.5 in c:\\users\\ghk96\\anaconda3\\envs\\py36\\lib\\site-packages (from requests[socks]>=2.11.1->tweepy>=3.7.0->konlpy) (2.10)\n",
            "Requirement already satisfied: certifi>=2017.4.17 in c:\\users\\ghk96\\anaconda3\\envs\\py36\\lib\\site-packages (from requests[socks]>=2.11.1->tweepy>=3.7.0->konlpy) (2020.6.20)\n",
            "Requirement already satisfied: urllib3!=1.25.0,!=1.25.1,<1.26,>=1.21.1 in c:\\users\\ghk96\\anaconda3\\envs\\py36\\lib\\site-packages (from requests[socks]>=2.11.1->tweepy>=3.7.0->konlpy) (1.25.10)\n",
            "Requirement already satisfied: PySocks!=1.5.7,>=1.5.6; extra == \"socks\" in c:\\users\\ghk96\\anaconda3\\envs\\py36\\lib\\site-packages (from requests[socks]>=2.11.1->tweepy>=3.7.0->konlpy) (1.7.1)\n",
            "Requirement already satisfied: oauthlib>=3.0.0 in c:\\users\\ghk96\\anaconda3\\envs\\py36\\lib\\site-packages (from requests-oauthlib>=0.7.0->tweepy>=3.7.0->konlpy) (3.1.0)\n"
          ],
          "name": "stdout"
        }
      ]
    },
    {
      "cell_type": "code",
      "metadata": {
        "id": "KX1bsCVzoJCc",
        "colab_type": "code",
        "colab": {},
        "outputId": "2865fcb4-f12a-4630-ad76-ac4e7a851b41"
      },
      "source": [
        "#설치 확인\n",
        "\n",
        "from konlpy.tag import Kkma\n",
        "Kkma_pos = Kkma()\n",
        "K_nouns = Kkma_pos.nouns('야자수가 최고라구!')\n",
        "print(K_nouns)"
      ],
      "execution_count": null,
      "outputs": [
        {
          "output_type": "stream",
          "text": [
            "['야자', '야자수가', '수가', '최고', '최고라', '라']\n"
          ],
          "name": "stdout"
        }
      ]
    },
    {
      "cell_type": "code",
      "metadata": {
        "id": "mhYQgLejoJCh",
        "colab_type": "code",
        "colab": {},
        "outputId": "635de357-afc1-4bfb-da3d-03202537b340"
      },
      "source": [
        "from konlpy.tag import Mecab\n",
        "m = Mecab() \n",
        "m"
      ],
      "execution_count": null,
      "outputs": [
        {
          "output_type": "execute_result",
          "data": {
            "text/plain": [
              "<konlpy.tag._mecab.Mecab at 0x21f6dd18860>"
            ]
          },
          "metadata": {
            "tags": []
          },
          "execution_count": 8
        }
      ]
    },
    {
      "cell_type": "code",
      "metadata": {
        "id": "rPpj3-N4oJCm",
        "colab_type": "code",
        "colab": {}
      },
      "source": [
        "#여기서 생긴 문제를 해결하기 -> visual studio"
      ],
      "execution_count": null,
      "outputs": []
    },
    {
      "cell_type": "markdown",
      "metadata": {
        "id": "Jt9vzUBQrS9e",
        "colab_type": "text"
      },
      "source": [
        "- 이 위에서 문제가 생겼었는데, visual studio에 가서 [def __init__(self, dicpath=r'C:\\mecab\\mecab-ko-dic'):] 의 dicpath를 지금처럼 고쳐주어야 한다.\n",
        "\n",
        "  - r을 앞에 붙여주면 백슬래시 가능!\n",
        "\n",
        "- 재설정을 해주고, Anaconda를 다시 설치해준다. (설치했던 가상환경에 들어가서 해주어야 함!)\n"
      ]
    },
    {
      "cell_type": "code",
      "metadata": {
        "id": "FO-IieKeoJCr",
        "colab_type": "code",
        "colab": {}
      },
      "source": [
        "from konlpy.tag import Kkma\n",
        "K = Kkma()\n",
        "out = K.nouns('코엔엘파이 설치를 확인합니다')"
      ],
      "execution_count": null,
      "outputs": []
    },
    {
      "cell_type": "code",
      "metadata": {
        "id": "E2YA04TSoJCw",
        "colab_type": "code",
        "colab": {},
        "outputId": "167bacce-3d61-459f-ed65-cf2bd8a23eeb"
      },
      "source": [
        "out"
      ],
      "execution_count": null,
      "outputs": [
        {
          "output_type": "execute_result",
          "data": {
            "text/plain": [
              "['코엔', '코엔엘파이', '엘', '파이', '설치', '확인']"
            ]
          },
          "metadata": {
            "tags": []
          },
          "execution_count": 10
        }
      ]
    },
    {
      "cell_type": "code",
      "metadata": {
        "id": "IlrPOMx7oJC1",
        "colab_type": "code",
        "colab": {},
        "outputId": "6896016d-4181-41be-82f6-eff588360f8f"
      },
      "source": [
        "import sys\n",
        "print(sys.version)"
      ],
      "execution_count": null,
      "outputs": [
        {
          "output_type": "stream",
          "text": [
            "3.6.10 |Anaconda, Inc.| (default, May  7 2020, 19:46:08) [MSC v.1916 64 bit (AMD64)]\n"
          ],
          "name": "stdout"
        }
      ]
    }
  ]
}
{
  "nbformat": 4,
  "nbformat_minor": 0,
  "metadata": {
    "colab": {
      "name": "200904_감정분석_Naive Bayes_긍정부정.ipynb",
      "provenance": [],
      "collapsed_sections": [],
      "authorship_tag": "ABX9TyN2RAqtRvoBFbOc9NrRNh6r",
      "include_colab_link": true
    },
    "kernelspec": {
      "name": "python3",
      "display_name": "Python 3"
    }
  },
  "cells": [
    {
      "cell_type": "markdown",
      "metadata": {
        "id": "view-in-github",
        "colab_type": "text"
      },
      "source": [
        "<a href=\"https://colab.research.google.com/github/leenago/NLP_edu/blob/master/200904_%EA%B0%90%EC%A0%95%EB%B6%84%EC%84%9D_Naive_Bayes_%EA%B8%8D%EC%A0%95%EB%B6%80%EC%A0%95.ipynb\" target=\"_parent\"><img src=\"https://colab.research.google.com/assets/colab-badge.svg\" alt=\"Open In Colab\"/></a>"
      ]
    },
    {
      "cell_type": "markdown",
      "metadata": {
        "id": "rGQTHUtbSjbo",
        "colab_type": "text"
      },
      "source": [
        "# Naive Bayes Practice\n",
        "- 긍정(1), 부정(0)"
      ]
    },
    {
      "cell_type": "markdown",
      "metadata": {
        "id": "7AETJs54SsJ8",
        "colab_type": "text"
      },
      "source": [
        "### 1) Google drive에 mount 시켜서 파일 불러오기"
      ]
    },
    {
      "cell_type": "code",
      "metadata": {
        "id": "yD5dMZI7PPL7",
        "colab_type": "code",
        "colab": {
          "base_uri": "https://localhost:8080/",
          "height": 72
        },
        "outputId": "eb513ad0-1e3f-4cb0-b573-66542e96e6ac"
      },
      "source": [
        "from google.colab import drive # import drive from google colab\n",
        "\n",
        "ROOT = \"/content/drive\"     # default location for the drive\n",
        "print(ROOT)                 # print content of ROOT (Optional)\n",
        "drive.mount(ROOT)   "
      ],
      "execution_count": 9,
      "outputs": [
        {
          "output_type": "stream",
          "text": [
            "/content/drive\n",
            "Drive already mounted at /content/drive; to attempt to forcibly remount, call drive.mount(\"/content/drive\", force_remount=True).\n"
          ],
          "name": "stdout"
        }
      ]
    },
    {
      "cell_type": "code",
      "metadata": {
        "id": "3oHgSAX2PUUD",
        "colab_type": "code",
        "colab": {
          "base_uri": "https://localhost:8080/",
          "height": 122
        },
        "outputId": "8999829c-084f-4cda-e0a0-dacf99858726"
      },
      "source": [
        "%ls"
      ],
      "execution_count": 10,
      "outputs": [
        {
          "output_type": "stream",
          "text": [
            " \u001b[0m\u001b[01;34m실습코드\u001b[0m/                          단어의표현_part1.pdf\n",
            " 1_단어의표현_실습3_TF_IDF_1.gdoc   단어의표현_part2.pdf\n",
            "'1_자연어처리 기초.pdf'             감성분석_답.pdf\n",
            " 2_텍스트마이닝.pdf                 감성분석_나이브베이지안예제풀이.pdf\n",
            " naivebayes_example.csv             감성분석.pdf\n",
            " 단어의표현_part1.gdoc\n"
          ],
          "name": "stdout"
        }
      ]
    },
    {
      "cell_type": "code",
      "metadata": {
        "id": "s5TmluA0R5mW",
        "colab_type": "code",
        "colab": {
          "base_uri": "https://localhost:8080/",
          "height": 54
        },
        "outputId": "2898fc52-84da-4af9-e370-f582626ec402"
      },
      "source": [
        "%cd /content/drive/My Drive/bigdata/아경/2020_09_청취 아경_산업융합빅데이터분석가양성/자연어처리"
      ],
      "execution_count": 11,
      "outputs": [
        {
          "output_type": "stream",
          "text": [
            "/content/drive/.shortcut-targets-by-id/16DQB6HAwJs4icviMPd6AYLFaIjgdJaQZ/2020_09_청취 아경_산업융합빅데이터분석가양성/자연어처리\n"
          ],
          "name": "stdout"
        }
      ]
    },
    {
      "cell_type": "code",
      "metadata": {
        "id": "7J4osj80VLrM",
        "colab_type": "code",
        "colab": {
          "base_uri": "https://localhost:8080/",
          "height": 122
        },
        "outputId": "168d8e24-aece-45b3-f05e-899098ee0af0"
      },
      "source": [
        "%ls"
      ],
      "execution_count": 12,
      "outputs": [
        {
          "output_type": "stream",
          "text": [
            " \u001b[0m\u001b[01;34m실습코드\u001b[0m/                          단어의표현_part1.pdf\n",
            " 1_단어의표현_실습3_TF_IDF_1.gdoc   단어의표현_part2.pdf\n",
            "'1_자연어처리 기초.pdf'             감성분석_답.pdf\n",
            " 2_텍스트마이닝.pdf                 감성분석_나이브베이지안예제풀이.pdf\n",
            " naivebayes_example.csv             감성분석.pdf\n",
            " 단어의표현_part1.gdoc\n"
          ],
          "name": "stdout"
        }
      ]
    },
    {
      "cell_type": "markdown",
      "metadata": {
        "id": "dHiKDO2hSgxO",
        "colab_type": "text"
      },
      "source": [
        "### 2) 파일 불러오기"
      ]
    },
    {
      "cell_type": "code",
      "metadata": {
        "id": "43rc_LgqSdT_",
        "colab_type": "code",
        "colab": {
          "base_uri": "https://localhost:8080/",
          "height": 225
        },
        "outputId": "9be04064-3bf4-4e42-e967-b80aef567e1d"
      },
      "source": [
        "import numpy as np\n",
        "import pandas as pd\n",
        "input_file = pd.read_csv('naivebayes_example.csv')\n",
        "input_file"
      ],
      "execution_count": 17,
      "outputs": [
        {
          "output_type": "execute_result",
          "data": {
            "text/html": [
              "<div>\n",
              "<style scoped>\n",
              "    .dataframe tbody tr th:only-of-type {\n",
              "        vertical-align: middle;\n",
              "    }\n",
              "\n",
              "    .dataframe tbody tr th {\n",
              "        vertical-align: top;\n",
              "    }\n",
              "\n",
              "    .dataframe thead th {\n",
              "        text-align: right;\n",
              "    }\n",
              "</style>\n",
              "<table border=\"1\" class=\"dataframe\">\n",
              "  <thead>\n",
              "    <tr style=\"text-align: right;\">\n",
              "      <th></th>\n",
              "      <th>mail</th>\n",
              "      <th>label</th>\n",
              "    </tr>\n",
              "  </thead>\n",
              "  <tbody>\n",
              "    <tr>\n",
              "      <th>0</th>\n",
              "      <td>i love you</td>\n",
              "      <td>1</td>\n",
              "    </tr>\n",
              "    <tr>\n",
              "      <th>1</th>\n",
              "      <td>love happy weekend</td>\n",
              "      <td>1</td>\n",
              "    </tr>\n",
              "    <tr>\n",
              "      <th>2</th>\n",
              "      <td>bore work job</td>\n",
              "      <td>0</td>\n",
              "    </tr>\n",
              "    <tr>\n",
              "      <th>3</th>\n",
              "      <td>i hate you</td>\n",
              "      <td>0</td>\n",
              "    </tr>\n",
              "    <tr>\n",
              "      <th>4</th>\n",
              "      <td>bore weekend</td>\n",
              "      <td>0</td>\n",
              "    </tr>\n",
              "    <tr>\n",
              "      <th>5</th>\n",
              "      <td>happy together</td>\n",
              "      <td>1</td>\n",
              "    </tr>\n",
              "  </tbody>\n",
              "</table>\n",
              "</div>"
            ],
            "text/plain": [
              "                 mail  label\n",
              "0          i love you      1\n",
              "1  love happy weekend      1\n",
              "2       bore work job      0\n",
              "3          i hate you      0\n",
              "4        bore weekend      0\n",
              "5      happy together      1"
            ]
          },
          "metadata": {
            "tags": []
          },
          "execution_count": 17
        }
      ]
    },
    {
      "cell_type": "code",
      "metadata": {
        "id": "f_wS3-NXSeEM",
        "colab_type": "code",
        "colab": {
          "base_uri": "https://localhost:8080/",
          "height": 122
        },
        "outputId": "8802d005-84b2-442e-d313-ff3dfea30d0f"
      },
      "source": [
        "training_set = np.array(input_file)\n",
        "training_set"
      ],
      "execution_count": 20,
      "outputs": [
        {
          "output_type": "execute_result",
          "data": {
            "text/plain": [
              "array([['i love you', 1],\n",
              "       ['love happy weekend', 1],\n",
              "       ['bore work job', 0],\n",
              "       ['i hate you', 0],\n",
              "       ['bore weekend', 0],\n",
              "       ['happy together', 1]], dtype=object)"
            ]
          },
          "metadata": {
            "tags": []
          },
          "execution_count": 20
        }
      ]
    },
    {
      "cell_type": "markdown",
      "metadata": {
        "id": "KbljPP6yTQu4",
        "colab_type": "text"
      },
      "source": [
        "### 3) 토큰 빈도수 및 문서별 토큰수 계산\n",
        "- 확률 계산을 위한 준비"
      ]
    },
    {
      "cell_type": "code",
      "metadata": {
        "id": "F1QUdi8HSeLW",
        "colab_type": "code",
        "colab": {
          "base_uri": "https://localhost:8080/",
          "height": 210
        },
        "outputId": "d556be9e-b05f-461f-8109-5b5178742757"
      },
      "source": [
        "#토큰별로 문서 내 빈도수 카운팅\n",
        "from collections import defaultdict\n",
        "\n",
        "wordfreq = defaultdict(lambda: [0,0])\n",
        "#lambda: 새로운 단어가 추가 될 때 default를 [0:0]으로 하겠다. (긍정, 부정)\n",
        "\n",
        "for doc, point in training_set:\n",
        "  words = doc.split() #단어 토큰화\n",
        "\n",
        "  for word in words:\n",
        "    if point == 1:\n",
        "      wordfreq[word][0] += 1 #긍정인 경우 0번째 인덱스에 1을 더해라\n",
        "    else:\n",
        "      wordfreq[word][1] += 1 #부정인 경우 1번째 인덱스에 1을 더해라\n",
        "\n",
        "wordfreq"
      ],
      "execution_count": 23,
      "outputs": [
        {
          "output_type": "execute_result",
          "data": {
            "text/plain": [
              "defaultdict(<function __main__.<lambda>>,\n",
              "            {'bore': [0, 2],\n",
              "             'happy': [2, 0],\n",
              "             'hate': [0, 1],\n",
              "             'i': [1, 1],\n",
              "             'job': [0, 1],\n",
              "             'love': [2, 0],\n",
              "             'together': [1, 0],\n",
              "             'weekend': [1, 1],\n",
              "             'work': [0, 1],\n",
              "             'you': [1, 1]})"
            ]
          },
          "metadata": {
            "tags": []
          },
          "execution_count": 23
        }
      ]
    },
    {
      "cell_type": "code",
      "metadata": {
        "id": "L72y0ubZVKOs",
        "colab_type": "code",
        "colab": {
          "base_uri": "https://localhost:8080/",
          "height": 105
        },
        "outputId": "4bb30645-c443-4121-b209-1a77e73e0632"
      },
      "source": [
        "#긍정/부정 빈도수 계산\n",
        "긍정전체토큰수 = []\n",
        "부정전체토큰수 = []\n",
        "\n",
        "for key, (cnt1, cnt0) in wordfreq.items():\n",
        "  #key: 토큰화 된 단어들 / cnt1, cnt0 = 긍정/부정인 경우에 더해졌던 인덱스들\n",
        "  긍정전체토큰수.append(int(cnt1))\n",
        "  부정전체토큰수.append(int(cnt0))\n",
        "print(긍정전체토큰수)\n",
        "print(부정전체토큰수)\n",
        "print('\\n')\n",
        "\n",
        "전체갯수_긍정 = sum(긍정전체토큰수)\n",
        "전체갯수_부정 = sum(부정전체토큰수)\n",
        "print(전체갯수_긍정, 전체갯수_부정)"
      ],
      "execution_count": 24,
      "outputs": [
        {
          "output_type": "stream",
          "text": [
            "[1, 2, 1, 2, 1, 0, 0, 0, 0, 1]\n",
            "[1, 0, 1, 0, 1, 2, 1, 1, 1, 0]\n",
            "\n",
            "\n",
            "8 8\n"
          ],
          "name": "stdout"
        }
      ]
    },
    {
      "cell_type": "markdown",
      "metadata": {
        "id": "ceOwTD9OU0F-",
        "colab_type": "text"
      },
      "source": [
        "### 4) 토큰별 조건부 확률 계산"
      ]
    },
    {
      "cell_type": "code",
      "metadata": {
        "id": "mltzghhFSd6b",
        "colab_type": "code",
        "colab": {
          "base_uri": "https://localhost:8080/",
          "height": 210
        },
        "outputId": "7b3fd45c-4f6f-47b7-e61c-b2dd59c8ace0"
      },
      "source": [
        "wordprobs = defaultdict(lambda:[0,0])\n",
        "\n",
        "for key, (cnt1,cnt0) in wordfreq.items():\n",
        "  wordprobs[key][0] = (cnt1+1) / (전체갯수_긍정 + len(wordfreq))\n",
        "  wordprobs[key][1] = (cnt0+1) / (전체갯수_부정 + len(wordfreq))\n",
        "  #len(wordfreq): 전체 unique한 토큰 개수\n",
        "  #Laplace Smoothing을 사용\n",
        "  \n",
        "wordprobs"
      ],
      "execution_count": 25,
      "outputs": [
        {
          "output_type": "execute_result",
          "data": {
            "text/plain": [
              "defaultdict(<function __main__.<lambda>>,\n",
              "            {'bore': [0.05555555555555555, 0.16666666666666666],\n",
              "             'happy': [0.16666666666666666, 0.05555555555555555],\n",
              "             'hate': [0.05555555555555555, 0.1111111111111111],\n",
              "             'i': [0.1111111111111111, 0.1111111111111111],\n",
              "             'job': [0.05555555555555555, 0.1111111111111111],\n",
              "             'love': [0.16666666666666666, 0.05555555555555555],\n",
              "             'together': [0.1111111111111111, 0.05555555555555555],\n",
              "             'weekend': [0.1111111111111111, 0.1111111111111111],\n",
              "             'work': [0.05555555555555555, 0.1111111111111111],\n",
              "             'you': [0.1111111111111111, 0.1111111111111111]})"
            ]
          },
          "metadata": {
            "tags": []
          },
          "execution_count": 25
        }
      ]
    },
    {
      "cell_type": "markdown",
      "metadata": {
        "id": "-uN8WOmIYzUe",
        "colab_type": "text"
      },
      "source": [
        "### 5) Classify: 신규텍스트가 주어졌을 때 확률계산"
      ]
    },
    {
      "cell_type": "code",
      "metadata": {
        "id": "4jt2zB0gU4jP",
        "colab_type": "code",
        "colab": {
          "base_uri": "https://localhost:8080/",
          "height": 34
        },
        "outputId": "6f68b26c-1d35-486d-f437-8464a8d16bfa"
      },
      "source": [
        "import math\n",
        "doc = 'happy weekend'\n",
        "tokens = doc.split()\n",
        "tokens"
      ],
      "execution_count": 26,
      "outputs": [
        {
          "output_type": "execute_result",
          "data": {
            "text/plain": [
              "['happy', 'weekend']"
            ]
          },
          "metadata": {
            "tags": []
          },
          "execution_count": 26
        }
      ]
    },
    {
      "cell_type": "code",
      "metadata": {
        "id": "5N_GA6ENU4dH",
        "colab_type": "code",
        "colab": {
          "base_uri": "https://localhost:8080/",
          "height": 140
        },
        "outputId": "081ba370-62fd-4975-b73a-9afbb2165e14"
      },
      "source": [
        "#초기값을 모두 0으로 처리\n",
        "log_prob1 = log_prob0 = 0.0\n",
        "\n",
        "#모든 단어에 대해 반복\n",
        "for word, (prob1, prob0) in wordprobs.items():\n",
        "  if word in tokens:\n",
        "    log_prob1 += math.log(prob1)\n",
        "    log_prob0 += math.log(prob0)\n",
        "\n",
        "log_prob1 += math.log(전체갯수_긍정/(전체갯수_긍정+전체갯수_부정))\n",
        "log_prob0 += math.log(전체갯수_부정/(전체갯수_긍정+전체갯수_부정))\n",
        "\n",
        "prob1 = math.exp(log_prob1)\n",
        "print('prob1: ', prob0)\n",
        "\n",
        "prob0 = math.exp(log_prob0)\n",
        "print('prob0: ', prob0)\n",
        "print('\\n')\n",
        "\n",
        "print('happy와 weekend가 새로운 메일에 포함되어 있을 경우, 긍정확률과 부정확률')\n",
        "print('긍정확률: {}%'.format(prob1/(prob1+prob0)*100))\n",
        "print('부정확률: {}%'.format(prob0/(prob1+prob0)*100))"
      ],
      "execution_count": 28,
      "outputs": [
        {
          "output_type": "stream",
          "text": [
            "prob1:  0.05555555555555555\n",
            "prob0:  0.0030864197530864183\n",
            "\n",
            "\n",
            "happy와 weekend가 새로운 메일에 포함되어 있을 경우, 긍정확률과 부정확률\n",
            "긍정확률: 75.00000000000001%\n",
            "부정확률: 24.999999999999996%\n"
          ],
          "name": "stdout"
        }
      ]
    },
    {
      "cell_type": "markdown",
      "metadata": {
        "id": "SfACcMW4SWNx",
        "colab_type": "text"
      },
      "source": [
        "## Using sklearn"
      ]
    },
    {
      "cell_type": "code",
      "metadata": {
        "id": "BTh86I4PODI0",
        "colab_type": "code",
        "colab": {}
      },
      "source": [
        "import pandas as pd\n",
        "input_file = pd.read_csv('naivebayes_example.csv')"
      ],
      "execution_count": 13,
      "outputs": []
    },
    {
      "cell_type": "code",
      "metadata": {
        "id": "a_tWoORgM1T7",
        "colab_type": "code",
        "colab": {
          "base_uri": "https://localhost:8080/",
          "height": 54
        },
        "outputId": "da3504b3-883e-40f7-e120-1e08a065b17d"
      },
      "source": [
        "X_train = list(input_file['mail'])\n",
        "Y_train = list(input_file['label'])\n",
        "print(X_train, Y_train)"
      ],
      "execution_count": 14,
      "outputs": [
        {
          "output_type": "stream",
          "text": [
            "['i love you', 'love happy weekend', 'bore work job', 'i hate you', 'bore weekend', 'happy together'] [1, 1, 0, 0, 0, 1]\n"
          ],
          "name": "stdout"
        }
      ]
    },
    {
      "cell_type": "code",
      "metadata": {
        "id": "JHXRs1TXM1yc",
        "colab_type": "code",
        "colab": {}
      },
      "source": [
        "from sklearn.feature_extraction.text import CountVectorizer\n",
        "from sklearn.feature_extraction.text import TfidfTransformer\n",
        "from sklearn.naive_bayes import MultinomialNB\n",
        "\n",
        "count_vect = CountVectorizer()\n",
        "\n",
        "#fit and transform\n",
        "X_train_counts = count_vect.fit_transform(X_train)\n",
        "\n",
        "#MultinomialNB 선언 and fit\n",
        "clf = MultinomialNB().fit(X_train_counts, Y_train)"
      ],
      "execution_count": 15,
      "outputs": []
    },
    {
      "cell_type": "code",
      "metadata": {
        "id": "AotSeNWHNmNz",
        "colab_type": "code",
        "colab": {
          "base_uri": "https://localhost:8080/",
          "height": 52
        },
        "outputId": "72535e7c-ce24-4b77-e106-61b7ff95d807"
      },
      "source": [
        "happy_weekend = ['happy weekend'] \n",
        "#ValueError: Iterable over raw text documents expected, string object received.\n",
        "#그냥 'happy weekend'를 집어넣으면 이런 오류가 떠서, list 안에 한번 더 넣어주었다.\n",
        "\n",
        "#예측\n",
        "print(clf.predict(count_vect.transform(happy_weekend)))\n",
        "#확률\n",
        "print(clf.predict_proba(count_vect.transform(happy_weekend)))"
      ],
      "execution_count": 16,
      "outputs": [
        {
          "output_type": "stream",
          "text": [
            "[1]\n",
            "[[0.25 0.75]]\n"
          ],
          "name": "stdout"
        }
      ]
    },
    {
      "cell_type": "code",
      "metadata": {
        "id": "CKwoJIsKVh9v",
        "colab_type": "code",
        "colab": {}
      },
      "source": [
        ""
      ],
      "execution_count": 16,
      "outputs": []
    }
  ]
}
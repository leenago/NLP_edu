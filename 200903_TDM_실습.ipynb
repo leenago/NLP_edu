{
  "nbformat": 4,
  "nbformat_minor": 0,
  "metadata": {
    "colab": {
      "name": "200903_TDM_실습.ipynb",
      "provenance": [],
      "collapsed_sections": [],
      "authorship_tag": "ABX9TyNhJxzvJVvfdj9JBfiJrvO3",
      "include_colab_link": true
    },
    "kernelspec": {
      "name": "python3",
      "display_name": "Python 3"
    }
  },
  "cells": [
    {
      "cell_type": "markdown",
      "metadata": {
        "id": "view-in-github",
        "colab_type": "text"
      },
      "source": [
        "<a href=\"https://colab.research.google.com/github/leenago/NLP_edu/blob/master/200903_TDM_%EC%8B%A4%EC%8A%B5.ipynb\" target=\"_parent\"><img src=\"https://colab.research.google.com/assets/colab-badge.svg\" alt=\"Open In Colab\"/></a>"
      ]
    },
    {
      "cell_type": "markdown",
      "metadata": {
        "id": "b8e_CA5GKVN8",
        "colab_type": "text"
      },
      "source": [
        "#TDM 구현하기"
      ]
    },
    {
      "cell_type": "code",
      "metadata": {
        "id": "rqBUk37BFbAe",
        "colab_type": "code",
        "colab": {}
      },
      "source": [
        "docs = ['동물원 코끼리',\n",
        "        '동물원 원숭이 바나나',\n",
        "        '엄마 코끼리 아기 코끼리',\n",
        "        '원숭이 바나나 코끼리 바나나']"
      ],
      "execution_count": 1,
      "outputs": []
    },
    {
      "cell_type": "code",
      "metadata": {
        "id": "WCtZG2DEKUry",
        "colab_type": "code",
        "colab": {
          "base_uri": "https://localhost:8080/",
          "height": 87
        },
        "outputId": "c5d5d5da-abd1-47c9-c5a4-04e2555d2112"
      },
      "source": [
        "doc_list = []\n",
        "for doc in docs:\n",
        "  doc_list.append(doc.split(' '))\n",
        "\n",
        "doc_list"
      ],
      "execution_count": 2,
      "outputs": [
        {
          "output_type": "execute_result",
          "data": {
            "text/plain": [
              "[['동물원', '코끼리'],\n",
              " ['동물원', '원숭이', '바나나'],\n",
              " ['엄마', '코끼리', '아기', '코끼리'],\n",
              " ['원숭이', '바나나', '코끼리', '바나나']]"
            ]
          },
          "metadata": {
            "tags": []
          },
          "execution_count": 2
        }
      ]
    },
    {
      "cell_type": "code",
      "metadata": {
        "id": "Nym2xm0vKhEr",
        "colab_type": "code",
        "colab": {
          "base_uri": "https://localhost:8080/",
          "height": 52
        },
        "outputId": "0e0d5ace-3dc6-4212-ad4b-8e9b57a6162a"
      },
      "source": [
        "from collections import defaultdict\n",
        "word2id = defaultdict(lambda: len(word2id))\n",
        "for doc in doc_list:\n",
        "  for token in doc:\n",
        "    word2id[token]\n",
        "\n",
        "word2id"
      ],
      "execution_count": 6,
      "outputs": [
        {
          "output_type": "execute_result",
          "data": {
            "text/plain": [
              "defaultdict(<function __main__.<lambda>>,\n",
              "            {'동물원': 0, '바나나': 3, '아기': 5, '엄마': 4, '원숭이': 2, '코끼리': 1})"
            ]
          },
          "metadata": {
            "tags": []
          },
          "execution_count": 6
        }
      ]
    },
    {
      "cell_type": "code",
      "metadata": {
        "id": "1J51meSCKjAT",
        "colab_type": "code",
        "colab": {
          "base_uri": "https://localhost:8080/",
          "height": 122
        },
        "outputId": "2b59995d-fc0a-4cc6-935f-704daa1a0030"
      },
      "source": [
        "import numpy as np\n",
        "\n",
        "TDM = np.zeros((len(word2id), len(doc_list)), dtype=int)\n",
        "print(TDM)"
      ],
      "execution_count": 8,
      "outputs": [
        {
          "output_type": "stream",
          "text": [
            "[[0 0 0 0]\n",
            " [0 0 0 0]\n",
            " [0 0 0 0]\n",
            " [0 0 0 0]\n",
            " [0 0 0 0]\n",
            " [0 0 0 0]]\n"
          ],
          "name": "stdout"
        }
      ]
    },
    {
      "cell_type": "code",
      "metadata": {
        "id": "GaIRyZr6KoGk",
        "colab_type": "code",
        "colab": {
          "base_uri": "https://localhost:8080/",
          "height": 122
        },
        "outputId": "ab483a40-5939-4faa-e74e-0f6ab4e1174b"
      },
      "source": [
        "#1차원인 BoW 때와 달리, TDM은 list에 append하지 않는 것이 차이이다!\n",
        "for i, doc in enumerate(doc_list):\n",
        "  for token in doc:\n",
        "    TDM[word2id[token], i] += 1 #해당 토큰의 위치(column)\n",
        "\n",
        "#행렬로 표기(BoW와 차이점: BoW는 1차원 배열이다.)\n",
        "TDM"
      ],
      "execution_count": 9,
      "outputs": [
        {
          "output_type": "execute_result",
          "data": {
            "text/plain": [
              "array([[1, 1, 0, 0],\n",
              "       [1, 0, 2, 1],\n",
              "       [0, 1, 0, 1],\n",
              "       [0, 1, 0, 2],\n",
              "       [0, 0, 1, 0],\n",
              "       [0, 0, 1, 0]])"
            ]
          },
          "metadata": {
            "tags": []
          },
          "execution_count": 9
        }
      ]
    },
    {
      "cell_type": "code",
      "metadata": {
        "id": "sRcJu9P9KrKZ",
        "colab_type": "code",
        "colab": {
          "base_uri": "https://localhost:8080/",
          "height": 307
        },
        "outputId": "25e825e9-c2ee-4ebe-d953-d086df4b5e19"
      },
      "source": [
        "import pandas as pd\n",
        "\n",
        "doc_names = ['문서'+str(i) for i in range(len(doc_list))]\n",
        "#여러줄 표기를 한 줄로 옮긴 것, 해석은 뒤에서부터 하면 된다.\n",
        "print('doc_names: ', doc_names)\n",
        "print('\\n')\n",
        "sorted_vocab = sorted((value,key) for key, value in word2id.items())\n",
        "vocab = [v[1] for v in sorted_vocab]\n",
        "\n",
        "df_TDM = pd.DataFrame(TDM, columns = doc_names)\n",
        "df_TDM['단어'] = vocab\n",
        "df_TDM.set_index('단어')\n"
      ],
      "execution_count": 11,
      "outputs": [
        {
          "output_type": "stream",
          "text": [
            "doc_names:  ['문서0', '문서1', '문서2', '문서3']\n",
            "\n",
            "\n"
          ],
          "name": "stdout"
        },
        {
          "output_type": "execute_result",
          "data": {
            "text/html": [
              "<div>\n",
              "<style scoped>\n",
              "    .dataframe tbody tr th:only-of-type {\n",
              "        vertical-align: middle;\n",
              "    }\n",
              "\n",
              "    .dataframe tbody tr th {\n",
              "        vertical-align: top;\n",
              "    }\n",
              "\n",
              "    .dataframe thead th {\n",
              "        text-align: right;\n",
              "    }\n",
              "</style>\n",
              "<table border=\"1\" class=\"dataframe\">\n",
              "  <thead>\n",
              "    <tr style=\"text-align: right;\">\n",
              "      <th></th>\n",
              "      <th>문서0</th>\n",
              "      <th>문서1</th>\n",
              "      <th>문서2</th>\n",
              "      <th>문서3</th>\n",
              "    </tr>\n",
              "    <tr>\n",
              "      <th>단어</th>\n",
              "      <th></th>\n",
              "      <th></th>\n",
              "      <th></th>\n",
              "      <th></th>\n",
              "    </tr>\n",
              "  </thead>\n",
              "  <tbody>\n",
              "    <tr>\n",
              "      <th>동물원</th>\n",
              "      <td>1</td>\n",
              "      <td>1</td>\n",
              "      <td>0</td>\n",
              "      <td>0</td>\n",
              "    </tr>\n",
              "    <tr>\n",
              "      <th>코끼리</th>\n",
              "      <td>1</td>\n",
              "      <td>0</td>\n",
              "      <td>2</td>\n",
              "      <td>1</td>\n",
              "    </tr>\n",
              "    <tr>\n",
              "      <th>원숭이</th>\n",
              "      <td>0</td>\n",
              "      <td>1</td>\n",
              "      <td>0</td>\n",
              "      <td>1</td>\n",
              "    </tr>\n",
              "    <tr>\n",
              "      <th>바나나</th>\n",
              "      <td>0</td>\n",
              "      <td>1</td>\n",
              "      <td>0</td>\n",
              "      <td>2</td>\n",
              "    </tr>\n",
              "    <tr>\n",
              "      <th>엄마</th>\n",
              "      <td>0</td>\n",
              "      <td>0</td>\n",
              "      <td>1</td>\n",
              "      <td>0</td>\n",
              "    </tr>\n",
              "    <tr>\n",
              "      <th>아기</th>\n",
              "      <td>0</td>\n",
              "      <td>0</td>\n",
              "      <td>1</td>\n",
              "      <td>0</td>\n",
              "    </tr>\n",
              "  </tbody>\n",
              "</table>\n",
              "</div>"
            ],
            "text/plain": [
              "     문서0  문서1  문서2  문서3\n",
              "단어                     \n",
              "동물원    1    1    0    0\n",
              "코끼리    1    0    2    1\n",
              "원숭이    0    1    0    1\n",
              "바나나    0    1    0    2\n",
              "엄마     0    0    1    0\n",
              "아기     0    0    1    0"
            ]
          },
          "metadata": {
            "tags": []
          },
          "execution_count": 11
        }
      ]
    },
    {
      "cell_type": "markdown",
      "metadata": {
        "id": "3PU-6j3dK79n",
        "colab_type": "text"
      },
      "source": [
        "#TDM - sklearn\n",
        "- sklearn은 DTM으로 만들어지게 설정해준다.\n",
        "('.T'가 필요하다)\n",
        "- CountVectorizer는 docs를 알아서 token화 해주고 count를 해준다"
      ]
    },
    {
      "cell_type": "code",
      "metadata": {
        "id": "_JBWbmX_Kuaa",
        "colab_type": "code",
        "colab": {}
      },
      "source": [
        "docs = ['동물원 코끼리',\n",
        "        '동물원 원숭이 바나나',\n",
        "        '엄마 코끼리 아기 코끼리',\n",
        "        '원숭이 바나나 코끼리 바나나']"
      ],
      "execution_count": 12,
      "outputs": []
    },
    {
      "cell_type": "code",
      "metadata": {
        "id": "4tIE-2vIK-Bd",
        "colab_type": "code",
        "colab": {
          "base_uri": "https://localhost:8080/",
          "height": 87
        },
        "outputId": "fb1012ce-9b8e-410a-a1df-4032b3922b73"
      },
      "source": [
        "from sklearn.feature_extraction.text import CountVectorizer\n",
        "count_vect = CountVectorizer()\n",
        "\n",
        "DTM = count_vect.fit_transform(docs)\n",
        "DTM.toarray()"
      ],
      "execution_count": 13,
      "outputs": [
        {
          "output_type": "execute_result",
          "data": {
            "text/plain": [
              "array([[1, 0, 0, 0, 0, 1],\n",
              "       [1, 1, 0, 0, 1, 0],\n",
              "       [0, 0, 1, 1, 0, 2],\n",
              "       [0, 2, 0, 0, 1, 1]])"
            ]
          },
          "metadata": {
            "tags": []
          },
          "execution_count": 13
        }
      ]
    },
    {
      "cell_type": "code",
      "metadata": {
        "id": "OnmSPNkbK_lp",
        "colab_type": "code",
        "colab": {
          "base_uri": "https://localhost:8080/",
          "height": 122
        },
        "outputId": "ddeaae0c-9286-4ea4-d4f0-97fb7230d586"
      },
      "source": [
        "DTM.toarray().T"
      ],
      "execution_count": 14,
      "outputs": [
        {
          "output_type": "execute_result",
          "data": {
            "text/plain": [
              "array([[1, 1, 0, 0],\n",
              "       [0, 1, 0, 2],\n",
              "       [0, 0, 1, 0],\n",
              "       [0, 0, 1, 0],\n",
              "       [0, 1, 0, 1],\n",
              "       [1, 0, 2, 1]])"
            ]
          },
          "metadata": {
            "tags": []
          },
          "execution_count": 14
        }
      ]
    },
    {
      "cell_type": "code",
      "metadata": {
        "id": "stFtgwPrLDVT",
        "colab_type": "code",
        "colab": {
          "base_uri": "https://localhost:8080/",
          "height": 307
        },
        "outputId": "40e0291b-3c24-443a-bdb4-709687fc91fc"
      },
      "source": [
        "import pandas as pd\n",
        "\n",
        "doc_names = ['문서'+str(i) for i in range(len(doc_list))]\n",
        "vocab = count_vect.get_feature_names()\n",
        "print(vocab)\n",
        "print('\\n')\n",
        "\n",
        "df_TDM = pd.DataFrame(DTM.toarray().T, columns = doc_names)\n",
        "df_TDM['단어'] = vocab\n",
        "df_TDM.set_index('단어')"
      ],
      "execution_count": 15,
      "outputs": [
        {
          "output_type": "stream",
          "text": [
            "['동물원', '바나나', '아기', '엄마', '원숭이', '코끼리']\n",
            "\n",
            "\n"
          ],
          "name": "stdout"
        },
        {
          "output_type": "execute_result",
          "data": {
            "text/html": [
              "<div>\n",
              "<style scoped>\n",
              "    .dataframe tbody tr th:only-of-type {\n",
              "        vertical-align: middle;\n",
              "    }\n",
              "\n",
              "    .dataframe tbody tr th {\n",
              "        vertical-align: top;\n",
              "    }\n",
              "\n",
              "    .dataframe thead th {\n",
              "        text-align: right;\n",
              "    }\n",
              "</style>\n",
              "<table border=\"1\" class=\"dataframe\">\n",
              "  <thead>\n",
              "    <tr style=\"text-align: right;\">\n",
              "      <th></th>\n",
              "      <th>문서0</th>\n",
              "      <th>문서1</th>\n",
              "      <th>문서2</th>\n",
              "      <th>문서3</th>\n",
              "    </tr>\n",
              "    <tr>\n",
              "      <th>단어</th>\n",
              "      <th></th>\n",
              "      <th></th>\n",
              "      <th></th>\n",
              "      <th></th>\n",
              "    </tr>\n",
              "  </thead>\n",
              "  <tbody>\n",
              "    <tr>\n",
              "      <th>동물원</th>\n",
              "      <td>1</td>\n",
              "      <td>1</td>\n",
              "      <td>0</td>\n",
              "      <td>0</td>\n",
              "    </tr>\n",
              "    <tr>\n",
              "      <th>바나나</th>\n",
              "      <td>0</td>\n",
              "      <td>1</td>\n",
              "      <td>0</td>\n",
              "      <td>2</td>\n",
              "    </tr>\n",
              "    <tr>\n",
              "      <th>아기</th>\n",
              "      <td>0</td>\n",
              "      <td>0</td>\n",
              "      <td>1</td>\n",
              "      <td>0</td>\n",
              "    </tr>\n",
              "    <tr>\n",
              "      <th>엄마</th>\n",
              "      <td>0</td>\n",
              "      <td>0</td>\n",
              "      <td>1</td>\n",
              "      <td>0</td>\n",
              "    </tr>\n",
              "    <tr>\n",
              "      <th>원숭이</th>\n",
              "      <td>0</td>\n",
              "      <td>1</td>\n",
              "      <td>0</td>\n",
              "      <td>1</td>\n",
              "    </tr>\n",
              "    <tr>\n",
              "      <th>코끼리</th>\n",
              "      <td>1</td>\n",
              "      <td>0</td>\n",
              "      <td>2</td>\n",
              "      <td>1</td>\n",
              "    </tr>\n",
              "  </tbody>\n",
              "</table>\n",
              "</div>"
            ],
            "text/plain": [
              "     문서0  문서1  문서2  문서3\n",
              "단어                     \n",
              "동물원    1    1    0    0\n",
              "바나나    0    1    0    2\n",
              "아기     0    0    1    0\n",
              "엄마     0    0    1    0\n",
              "원숭이    0    1    0    1\n",
              "코끼리    1    0    2    1"
            ]
          },
          "metadata": {
            "tags": []
          },
          "execution_count": 15
        }
      ]
    },
    {
      "cell_type": "markdown",
      "metadata": {
        "id": "pmvrKUSSLUud",
        "colab_type": "text"
      },
      "source": [
        "#TDM-gensim"
      ]
    },
    {
      "cell_type": "code",
      "metadata": {
        "id": "T_k3_m44LGhQ",
        "colab_type": "code",
        "colab": {}
      },
      "source": [
        "docs = ['동물원 코끼리',\n",
        "        '동물원 원숭이 바나나',\n",
        "        '엄마 코끼리 아기 코끼리',\n",
        "        '원숭이 바나나 코끼리 바나나']"
      ],
      "execution_count": 40,
      "outputs": []
    },
    {
      "cell_type": "code",
      "metadata": {
        "id": "8pzZY3RtMC0v",
        "colab_type": "code",
        "colab": {
          "base_uri": "https://localhost:8080/",
          "height": 87
        },
        "outputId": "fb879547-54a6-403a-b634-4d95f4e2fbd4"
      },
      "source": [
        "doc_list = []\n",
        "for doc in docs:\n",
        "  doc_list.append(doc.split(' '))\n",
        "\n",
        "doc_list"
      ],
      "execution_count": 41,
      "outputs": [
        {
          "output_type": "execute_result",
          "data": {
            "text/plain": [
              "[['동물원', '코끼리'],\n",
              " ['동물원', '원숭이', '바나나'],\n",
              " ['엄마', '코끼리', '아기', '코끼리'],\n",
              " ['원숭이', '바나나', '코끼리', '바나나']]"
            ]
          },
          "metadata": {
            "tags": []
          },
          "execution_count": 41
        }
      ]
    },
    {
      "cell_type": "code",
      "metadata": {
        "id": "k7PE3xzDMmNs",
        "colab_type": "code",
        "colab": {
          "base_uri": "https://localhost:8080/",
          "height": 52
        },
        "outputId": "30d7e6e6-c427-4ec4-9d01-d6f4bf37b46f"
      },
      "source": [
        "from collections import defaultdict\n",
        "word2id = defaultdict(lambda: len(word2id))\n",
        "\n",
        "for doc in doc_list:\n",
        "  for token in doc:\n",
        "    word2id[token]\n",
        "\n",
        "word2id"
      ],
      "execution_count": 42,
      "outputs": [
        {
          "output_type": "execute_result",
          "data": {
            "text/plain": [
              "defaultdict(<function __main__.<lambda>>,\n",
              "            {'동물원': 0, '바나나': 3, '아기': 5, '엄마': 4, '원숭이': 2, '코끼리': 1})"
            ]
          },
          "metadata": {
            "tags": []
          },
          "execution_count": 42
        }
      ]
    },
    {
      "cell_type": "code",
      "metadata": {
        "id": "XEEk0hK6LcJc",
        "colab_type": "code",
        "colab": {
          "base_uri": "https://localhost:8080/",
          "height": 87
        },
        "outputId": "7120ec60-0abf-436e-e00f-df409ef35942"
      },
      "source": [
        "import gensim\n",
        "from gensim import corpora\n",
        "\n",
        "doc_list = [doc.split() for doc in docs] #for문 한줄로 구현하기, 뒤에서부터 해석한다.\n",
        "\n",
        "id2word = corpora.Dictionary(doc_list)\n",
        "TDM = [id2word.doc2bow(doc) for doc in doc_list]\n",
        "TDM\n"
      ],
      "execution_count": 43,
      "outputs": [
        {
          "output_type": "execute_result",
          "data": {
            "text/plain": [
              "[[(0, 1), (1, 1)],\n",
              " [(0, 1), (2, 1), (3, 1)],\n",
              " [(1, 2), (4, 1), (5, 1)],\n",
              " [(1, 1), (2, 2), (3, 1)]]"
            ]
          },
          "metadata": {
            "tags": []
          },
          "execution_count": 43
        }
      ]
    },
    {
      "cell_type": "code",
      "metadata": {
        "id": "ZN-RbIutLwvn",
        "colab_type": "code",
        "colab": {
          "base_uri": "https://localhost:8080/",
          "height": 254
        },
        "outputId": "df2d0126-d649-4567-9b6b-744f0bc778e1"
      },
      "source": [
        "from gensim.matutils import sparse2full\n",
        "import pandas as pd\n",
        "import numpy as np\n",
        "\n",
        "doc_names = ['문서' + str(i) for i in range(len(doc_list))]\n",
        "vocab = [id2word[i] for i in id2word.keys()]\n",
        "DTM_matrix = [sparse2full(doc, len(vocab)).tolist() for doc in TDM]\n",
        "\n",
        "df_TDM = pd.DataFrame(np.array(DTM_matrix, dtype = int).T,\n",
        "                      columns = doc_names)\n",
        "df_TDM['단어'] = vocab\n",
        "df_TDM.set_index('단어')"
      ],
      "execution_count": 49,
      "outputs": [
        {
          "output_type": "execute_result",
          "data": {
            "text/html": [
              "<div>\n",
              "<style scoped>\n",
              "    .dataframe tbody tr th:only-of-type {\n",
              "        vertical-align: middle;\n",
              "    }\n",
              "\n",
              "    .dataframe tbody tr th {\n",
              "        vertical-align: top;\n",
              "    }\n",
              "\n",
              "    .dataframe thead th {\n",
              "        text-align: right;\n",
              "    }\n",
              "</style>\n",
              "<table border=\"1\" class=\"dataframe\">\n",
              "  <thead>\n",
              "    <tr style=\"text-align: right;\">\n",
              "      <th></th>\n",
              "      <th>문서0</th>\n",
              "      <th>문서1</th>\n",
              "      <th>문서2</th>\n",
              "      <th>문서3</th>\n",
              "    </tr>\n",
              "    <tr>\n",
              "      <th>단어</th>\n",
              "      <th></th>\n",
              "      <th></th>\n",
              "      <th></th>\n",
              "      <th></th>\n",
              "    </tr>\n",
              "  </thead>\n",
              "  <tbody>\n",
              "    <tr>\n",
              "      <th>동물원</th>\n",
              "      <td>1</td>\n",
              "      <td>1</td>\n",
              "      <td>0</td>\n",
              "      <td>0</td>\n",
              "    </tr>\n",
              "    <tr>\n",
              "      <th>코끼리</th>\n",
              "      <td>1</td>\n",
              "      <td>0</td>\n",
              "      <td>2</td>\n",
              "      <td>1</td>\n",
              "    </tr>\n",
              "    <tr>\n",
              "      <th>바나나</th>\n",
              "      <td>0</td>\n",
              "      <td>1</td>\n",
              "      <td>0</td>\n",
              "      <td>2</td>\n",
              "    </tr>\n",
              "    <tr>\n",
              "      <th>원숭이</th>\n",
              "      <td>0</td>\n",
              "      <td>1</td>\n",
              "      <td>0</td>\n",
              "      <td>1</td>\n",
              "    </tr>\n",
              "    <tr>\n",
              "      <th>아기</th>\n",
              "      <td>0</td>\n",
              "      <td>0</td>\n",
              "      <td>1</td>\n",
              "      <td>0</td>\n",
              "    </tr>\n",
              "    <tr>\n",
              "      <th>엄마</th>\n",
              "      <td>0</td>\n",
              "      <td>0</td>\n",
              "      <td>1</td>\n",
              "      <td>0</td>\n",
              "    </tr>\n",
              "  </tbody>\n",
              "</table>\n",
              "</div>"
            ],
            "text/plain": [
              "     문서0  문서1  문서2  문서3\n",
              "단어                     \n",
              "동물원    1    1    0    0\n",
              "코끼리    1    0    2    1\n",
              "바나나    0    1    0    2\n",
              "원숭이    0    1    0    1\n",
              "아기     0    0    1    0\n",
              "엄마     0    0    1    0"
            ]
          },
          "metadata": {
            "tags": []
          },
          "execution_count": 49
        }
      ]
    }
  ]
}